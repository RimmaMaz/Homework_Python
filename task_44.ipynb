{
 "cells": [
  {
   "cell_type": "code",
   "execution_count": 6,
   "metadata": {},
   "outputs": [],
   "source": [
    "import pandas as pd\n",
    "import numpy as np"
   ]
  },
  {
   "cell_type": "code",
   "execution_count": 9,
   "metadata": {},
   "outputs": [
    {
     "name": "stdout",
     "output_type": "stream",
     "text": [
      "   whoAmI\n",
      "0   robot\n",
      "1   human\n",
      "2   robot\n",
      "3   human\n",
      "4   human\n",
      "5   robot\n",
      "6   robot\n",
      "7   robot\n",
      "8   human\n",
      "9   robot\n",
      "10  robot\n",
      "11  human\n",
      "12  robot\n",
      "13  human\n",
      "14  human\n",
      "15  human\n",
      "16  human\n",
      "17  human\n",
      "18  robot\n",
      "19  robot\n"
     ]
    }
   ],
   "source": [
    "import random\n",
    "lst = ['robot'] * 10\n",
    "lst += ['human'] * 10\n",
    "random.shuffle(lst)\n",
    "data = pd.DataFrame({'whoAmI':lst})\n",
    "print(data)\n"
   ]
  },
  {
   "cell_type": "code",
   "execution_count": 10,
   "metadata": {},
   "outputs": [
    {
     "name": "stdout",
     "output_type": "stream",
     "text": [
      "    human  robot\n",
      "0       0      1\n",
      "1       1      0\n",
      "2       0      1\n",
      "3       1      0\n",
      "4       1      0\n",
      "5       0      1\n",
      "6       0      1\n",
      "7       0      1\n",
      "8       1      0\n",
      "9       0      1\n",
      "10      0      1\n",
      "11      1      0\n",
      "12      0      1\n",
      "13      1      0\n",
      "14      1      0\n",
      "15      1      0\n",
      "16      1      0\n",
      "17      1      0\n",
      "18      0      1\n",
      "19      0      1\n"
     ]
    }
   ],
   "source": [
    "data['tmp'] = 1\n",
    "data.set_index([data.index, 'whoAmI'], inplace=True)\n",
    "data = data.unstack(level=-1, fill_value = 0).astype(int)\n",
    "data.columns = data.columns.droplevel()\n",
    "data.columns.name = None\n",
    "print(data)"
   ]
  }
 ],
 "metadata": {
  "kernelspec": {
   "display_name": "venv1",
   "language": "python",
   "name": "python3"
  },
  "language_info": {
   "codemirror_mode": {
    "name": "ipython",
    "version": 3
   },
   "file_extension": ".py",
   "mimetype": "text/x-python",
   "name": "python",
   "nbconvert_exporter": "python",
   "pygments_lexer": "ipython3",
   "version": "3.10.1"
  },
  "orig_nbformat": 4
 },
 "nbformat": 4,
 "nbformat_minor": 2
}
